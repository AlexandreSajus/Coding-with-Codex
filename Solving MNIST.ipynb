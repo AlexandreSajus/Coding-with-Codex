{
 "cells": [
  {
   "cell_type": "code",
   "execution_count": 1,
   "id": "330545a5",
   "metadata": {
    "execution": {
     "iopub.execute_input": "2021-08-23T21:04:25.524118Z",
     "iopub.status.busy": "2021-08-23T21:04:25.523577Z",
     "iopub.status.idle": "2021-08-23T21:04:25.529680Z",
     "shell.execute_reply": "2021-08-23T21:04:25.530138Z"
    },
    "papermill": {
     "duration": 0.029864,
     "end_time": "2021-08-23T21:04:25.530345",
     "exception": false,
     "start_time": "2021-08-23T21:04:25.500481",
     "status": "completed"
    },
    "tags": []
   },
   "outputs": [
    {
     "data": {
      "text/plain": [
       "'\\nSolving MNIST\\n'"
      ]
     },
     "execution_count": 1,
     "metadata": {},
     "output_type": "execute_result"
    }
   ],
   "source": [
    "\"\"\"\n",
    "Solving MNIST\n",
    "\"\"\""
   ]
  },
  {
   "cell_type": "code",
   "execution_count": 2,
   "id": "afdf898f",
   "metadata": {
    "execution": {
     "iopub.execute_input": "2021-08-23T21:04:25.556001Z",
     "iopub.status.busy": "2021-08-23T21:04:25.554623Z",
     "iopub.status.idle": "2021-08-23T21:04:29.491275Z",
     "shell.execute_reply": "2021-08-23T21:04:29.492234Z",
     "shell.execute_reply.started": "2021-08-23T13:36:12.219834Z"
    },
    "papermill": {
     "duration": 3.951771,
     "end_time": "2021-08-23T21:04:29.492443",
     "exception": false,
     "start_time": "2021-08-23T21:04:25.540672",
     "status": "completed"
    },
    "tags": []
   },
   "outputs": [],
   "source": [
    "\"\"\"\n",
    "Slight cheating here: I asked this at the end of the code so that Codex knew what to import\n",
    "\"\"\"\n",
    "# Import the necessary libraries\n",
    "import numpy as np\n",
    "import matplotlib.pyplot as plt\n",
    "import tensorflow as tf\n",
    "from tensorflow.keras.datasets import mnist\n",
    "from tensorflow.keras.layers import Dense, Flatten, Conv2D, MaxPooling2D\n",
    "from tensorflow.keras.models import Sequential"
   ]
  },
  {
   "cell_type": "code",
   "execution_count": 3,
   "id": "d1465dbd",
   "metadata": {
    "execution": {
     "iopub.execute_input": "2021-08-23T21:04:29.529791Z",
     "iopub.status.busy": "2021-08-23T21:04:29.528880Z",
     "iopub.status.idle": "2021-08-23T21:04:29.531488Z",
     "shell.execute_reply": "2021-08-23T21:04:29.532084Z",
     "shell.execute_reply.started": "2021-08-23T13:37:46.127601Z"
    },
    "papermill": {
     "duration": 0.023494,
     "end_time": "2021-08-23T21:04:29.532262",
     "exception": false,
     "start_time": "2021-08-23T21:04:29.508768",
     "status": "completed"
    },
    "tags": []
   },
   "outputs": [],
   "source": [
    "# Import Dropout\n",
    "from tensorflow.keras.layers import Dropout"
   ]
  },
  {
   "cell_type": "code",
   "execution_count": 4,
   "id": "0921339d",
   "metadata": {
    "execution": {
     "iopub.execute_input": "2021-08-23T21:04:29.571174Z",
     "iopub.status.busy": "2021-08-23T21:04:29.570373Z",
     "iopub.status.idle": "2021-08-23T21:04:30.051568Z",
     "shell.execute_reply": "2021-08-23T21:04:30.051086Z",
     "shell.execute_reply.started": "2021-08-23T13:36:19.39366Z"
    },
    "papermill": {
     "duration": 0.503448,
     "end_time": "2021-08-23T21:04:30.051700",
     "exception": false,
     "start_time": "2021-08-23T21:04:29.548252",
     "status": "completed"
    },
    "tags": []
   },
   "outputs": [
    {
     "name": "stdout",
     "output_type": "stream",
     "text": [
      "Downloading data from https://storage.googleapis.com/tensorflow/tf-keras-datasets/mnist.npz\n",
      "11493376/11490434 [==============================] - 0s 0us/step\n"
     ]
    }
   ],
   "source": [
    "# Load the MNIST dataset\n",
    "(x_train, y_train), (x_test, y_test) = mnist.load_data()"
   ]
  },
  {
   "cell_type": "code",
   "execution_count": 5,
   "id": "045b8d0d",
   "metadata": {
    "execution": {
     "iopub.execute_input": "2021-08-23T21:04:30.088375Z",
     "iopub.status.busy": "2021-08-23T21:04:30.087415Z",
     "iopub.status.idle": "2021-08-23T21:04:30.237110Z",
     "shell.execute_reply": "2021-08-23T21:04:30.237523Z",
     "shell.execute_reply.started": "2021-08-23T13:36:27.338664Z"
    },
    "papermill": {
     "duration": 0.174971,
     "end_time": "2021-08-23T21:04:30.237660",
     "exception": false,
     "start_time": "2021-08-23T21:04:30.062689",
     "status": "completed"
    },
    "tags": []
   },
   "outputs": [
    {
     "data": {
      "text/plain": [
       "Text(0.5, 1.0, 'Class 5')"
      ]
     },
     "execution_count": 5,
     "metadata": {},
     "output_type": "execute_result"
    },
    {
     "data": {
      "image/png": "[encoded data removed]",
      "text/plain": [
       "<Figure size 432x288 with 1 Axes>"
      ]
     },
     "metadata": {
      "needs_background": "light"
     },
     "output_type": "display_data"
    }
   ],
   "source": [
    "# Display an example from the dataset\n",
    "plt.imshow(x_train[0], cmap='gray')\n",
    "plt.title('Class '+ str(y_train[0]))"
   ]
  },
  {
   "cell_type": "code",
   "execution_count": 6,
   "id": "a34ab6e5",
   "metadata": {
    "execution": {
     "iopub.execute_input": "2021-08-23T21:04:30.265170Z",
     "iopub.status.busy": "2021-08-23T21:04:30.264091Z",
     "iopub.status.idle": "2021-08-23T21:04:30.342463Z",
     "shell.execute_reply": "2021-08-23T21:04:30.341970Z",
     "shell.execute_reply.started": "2021-08-23T13:36:34.168811Z"
    },
    "papermill": {
     "duration": 0.093317,
     "end_time": "2021-08-23T21:04:30.342596",
     "exception": false,
     "start_time": "2021-08-23T21:04:30.249279",
     "status": "completed"
    },
    "tags": []
   },
   "outputs": [],
   "source": [
    "# Normalize the data\n",
    "x_train = x_train.astype('float32') / 255.0\n",
    "x_test = x_test.astype('float32') / 255.0"
   ]
  },
  {
   "cell_type": "code",
   "execution_count": 7,
   "id": "c4b72dfd",
   "metadata": {
    "execution": {
     "iopub.execute_input": "2021-08-23T21:04:30.372027Z",
     "iopub.status.busy": "2021-08-23T21:04:30.371140Z",
     "iopub.status.idle": "2021-08-23T21:04:30.373889Z",
     "shell.execute_reply": "2021-08-23T21:04:30.373431Z",
     "shell.execute_reply.started": "2021-08-23T13:36:36.670493Z"
    },
    "papermill": {
     "duration": 0.018653,
     "end_time": "2021-08-23T21:04:30.373997",
     "exception": false,
     "start_time": "2021-08-23T21:04:30.355344",
     "status": "completed"
    },
    "tags": []
   },
   "outputs": [],
   "source": [
    "# Preprocess the data\n",
    "x_train = x_train.reshape(x_train.shape[0], 28, 28, 1)\n",
    "x_test = x_test.reshape(x_test.shape[0], 28, 28, 1)"
   ]
  },
  {
   "cell_type": "code",
   "execution_count": 8,
   "id": "c47cb500",
   "metadata": {
    "execution": {
     "iopub.execute_input": "2021-08-23T21:04:30.402783Z",
     "iopub.status.busy": "2021-08-23T21:04:30.402167Z",
     "iopub.status.idle": "2021-08-23T21:04:32.355686Z",
     "shell.execute_reply": "2021-08-23T21:04:32.354898Z",
     "shell.execute_reply.started": "2021-08-23T13:37:49.123652Z"
    },
    "papermill": {
     "duration": 1.970282,
     "end_time": "2021-08-23T21:04:32.355812",
     "exception": false,
     "start_time": "2021-08-23T21:04:30.385530",
     "status": "completed"
    },
    "tags": []
   },
   "outputs": [],
   "source": [
    "# Create an ML model\n",
    "model = Sequential()\n",
    "model.add(Conv2D(28, kernel_size=(3,3), input_shape=x_train.shape[1:]))\n",
    "model.add(MaxPooling2D(pool_size=(2, 2)))\n",
    "model.add(Flatten())\n",
    "model.add(Dense(128, activation=tf.nn.relu))\n",
    "model.add(Dropout(0.2))\n",
    "model.add(Dense(10,activation=tf.nn.softmax))"
   ]
  },
  {
   "cell_type": "code",
   "execution_count": 9,
   "id": "92ff055e",
   "metadata": {
    "execution": {
     "iopub.execute_input": "2021-08-23T21:04:32.389233Z",
     "iopub.status.busy": "2021-08-23T21:04:32.388404Z",
     "iopub.status.idle": "2021-08-23T21:04:32.394194Z",
     "shell.execute_reply": "2021-08-23T21:04:32.393641Z",
     "shell.execute_reply.started": "2021-08-23T13:37:51.134631Z"
    },
    "papermill": {
     "duration": 0.02686,
     "end_time": "2021-08-23T21:04:32.394325",
     "exception": false,
     "start_time": "2021-08-23T21:04:32.367465",
     "status": "completed"
    },
    "tags": []
   },
   "outputs": [],
   "source": [
    "# Compile the model\n",
    "model.compile(optimizer='adam', \n",
    "              loss='sparse_categorical_crossentropy', \n",
    "              metrics=['accuracy'])"
   ]
  },
  {
   "cell_type": "code",
   "execution_count": 10,
   "id": "c5d59155",
   "metadata": {
    "execution": {
     "iopub.execute_input": "2021-08-23T21:04:32.420395Z",
     "iopub.status.busy": "2021-08-23T21:04:32.419882Z",
     "iopub.status.idle": "2021-08-23T21:05:18.562475Z",
     "shell.execute_reply": "2021-08-23T21:05:18.561946Z",
     "shell.execute_reply.started": "2021-08-23T13:37:53.072566Z"
    },
    "papermill": {
     "duration": 46.156844,
     "end_time": "2021-08-23T21:05:18.562605",
     "exception": false,
     "start_time": "2021-08-23T21:04:32.405761",
     "status": "completed"
    },
    "tags": []
   },
   "outputs": [
    {
     "name": "stdout",
     "output_type": "stream",
     "text": [
      "Epoch 1/10\n",
      "1875/1875 [==============================] - 10s 2ms/step - loss: 0.3553 - accuracy: 0.8930\n",
      "Epoch 2/10\n",
      "1875/1875 [==============================] - 4s 2ms/step - loss: 0.0816 - accuracy: 0.9755\n",
      "Epoch 3/10\n",
      "1875/1875 [==============================] - 4s 2ms/step - loss: 0.0562 - accuracy: 0.9825\n",
      "Epoch 4/10\n",
      "1875/1875 [==============================] - 4s 2ms/step - loss: 0.0392 - accuracy: 0.9878\n",
      "Epoch 5/10\n",
      "1875/1875 [==============================] - 4s 2ms/step - loss: 0.0320 - accuracy: 0.9900\n",
      "Epoch 6/10\n",
      "1875/1875 [==============================] - 4s 2ms/step - loss: 0.0278 - accuracy: 0.9906\n",
      "Epoch 7/10\n",
      "1875/1875 [==============================] - 4s 2ms/step - loss: 0.0216 - accuracy: 0.9928\n",
      "Epoch 8/10\n",
      "1875/1875 [==============================] - 4s 2ms/step - loss: 0.0213 - accuracy: 0.9930\n",
      "Epoch 9/10\n",
      "1875/1875 [==============================] - 4s 2ms/step - loss: 0.0165 - accuracy: 0.9945\n",
      "Epoch 10/10\n",
      "1875/1875 [==============================] - 4s 2ms/step - loss: 0.0153 - accuracy: 0.9941\n"
     ]
    },
    {
     "data": {
      "text/plain": [
       "<tensorflow.python.keras.callbacks.History at 0x7fcfa7adbed0>"
      ]
     },
     "execution_count": 10,
     "metadata": {},
     "output_type": "execute_result"
    }
   ],
   "source": [
    "# Train the model\n",
    "model.fit(x=x_train,y=y_train, epochs=10)"
   ]
  },
  {
   "cell_type": "code",
   "execution_count": 11,
   "id": "d29ea9d0",
   "metadata": {
    "execution": {
     "iopub.execute_input": "2021-08-23T21:05:18.996737Z",
     "iopub.status.busy": "2021-08-23T21:05:18.995947Z",
     "iopub.status.idle": "2021-08-23T21:05:19.116359Z",
     "shell.execute_reply": "2021-08-23T21:05:19.115825Z",
     "shell.execute_reply.started": "2021-08-23T13:38:42.700468Z"
    },
    "papermill": {
     "duration": 0.340147,
     "end_time": "2021-08-23T21:05:19.116490",
     "exception": false,
     "start_time": "2021-08-23T21:05:18.776343",
     "status": "completed"
    },
    "tags": []
   },
   "outputs": [],
   "source": [
    "# Make a prediction on the 10th example of x_test\n",
    "prediction = model.predict(x_test[9].reshape(1, 28, 28, 1))"
   ]
  },
  {
   "cell_type": "code",
   "execution_count": 12,
   "id": "7ead3f46",
   "metadata": {
    "execution": {
     "iopub.execute_input": "2021-08-23T21:05:19.569157Z",
     "iopub.status.busy": "2021-08-23T21:05:19.563567Z",
     "iopub.status.idle": "2021-08-23T21:05:19.685302Z",
     "shell.execute_reply": "2021-08-23T21:05:19.684840Z",
     "shell.execute_reply.started": "2021-08-23T13:38:46.117799Z"
    },
    "papermill": {
     "duration": 0.355252,
     "end_time": "2021-08-23T21:05:19.685422",
     "exception": false,
     "start_time": "2021-08-23T21:05:19.330170",
     "status": "completed"
    },
    "tags": []
   },
   "outputs": [
    {
     "data": {
      "text/plain": [
       "Text(0.5, 1.0, 'Prediction: 9')"
      ]
     },
     "execution_count": 12,
     "metadata": {},
     "output_type": "execute_result"
    },
    {
     "data": {
      "image/png": "[encoded data removed]",
      "text/plain": [
       "<Figure size 432x288 with 1 Axes>"
      ]
     },
     "metadata": {
      "needs_background": "light"
     },
     "output_type": "display_data"
    }
   ],
   "source": [
    "# Display the prediction\n",
    "plt.imshow(x_test[9].reshape(28, 28),cmap='gray')\n",
    "plt.title('Prediction: '+ str(np.argmax(prediction)))"
   ]
  },
  {
   "cell_type": "code",
   "execution_count": 13,
   "id": "c549c523",
   "metadata": {
    "execution": {
     "iopub.execute_input": "2021-08-23T21:05:20.121647Z",
     "iopub.status.busy": "2021-08-23T21:05:20.120693Z",
     "iopub.status.idle": "2021-08-23T21:05:20.882150Z",
     "shell.execute_reply": "2021-08-23T21:05:20.882986Z",
     "shell.execute_reply.started": "2021-08-23T13:38:49.705767Z"
    },
    "papermill": {
     "duration": 0.982229,
     "end_time": "2021-08-23T21:05:20.883135",
     "exception": false,
     "start_time": "2021-08-23T21:05:19.900906",
     "status": "completed"
    },
    "tags": []
   },
   "outputs": [
    {
     "name": "stdout",
     "output_type": "stream",
     "text": [
      "313/313 [==============================] - 1s 2ms/step - loss: 0.0660 - accuracy: 0.9848\n"
     ]
    },
    {
     "data": {
      "text/plain": [
       "[0.06599490344524384, 0.9847999811172485]"
      ]
     },
     "execution_count": 13,
     "metadata": {},
     "output_type": "execute_result"
    }
   ],
   "source": [
    "# Evaluate the model\n",
    "model.evaluate(x_test, y_test)"
   ]
  }
 ],
 "metadata": {
  "kernelspec": {
   "display_name": "Python 3",
   "language": "python",
   "name": "python3"
  },
  "language_info": {
   "codemirror_mode": {
    "name": "ipython",
    "version": 3
   },
   "file_extension": ".py",
   "mimetype": "text/x-python",
   "name": "python",
   "nbconvert_exporter": "python",
   "pygments_lexer": "ipython3",
   "version": "3.7.10"
  },
  "papermill": {
   "default_parameters": {},
   "duration": 64.55982,
   "end_time": "2021-08-23T21:05:23.841446",
   "environment_variables": {},
   "exception": null,
   "input_path": "__notebook__.ipynb",
   "output_path": "__notebook__.ipynb",
   "parameters": {},
   "start_time": "2021-08-23T21:04:19.281626",
   "version": "2.3.3"
  }
 },
 "nbformat": 4,
 "nbformat_minor": 5
}
